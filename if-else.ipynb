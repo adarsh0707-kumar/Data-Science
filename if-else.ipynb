{
 "cells": [
  {
   "cell_type": "markdown",
   "id": "f3af7be4",
   "metadata": {},
   "source": [
    "if-else practice questions in Python\n"
   ]
  },
  {
   "cell_type": "markdown",
   "id": "b6cc8f85",
   "metadata": {},
   "source": [
    "\n",
    "1. WAP to display the last digit of a number. (Don’t use indexing for this)"
   ]
  },
  {
   "cell_type": "code",
   "execution_count": 4,
   "id": "6abde078",
   "metadata": {},
   "outputs": [
    {
     "name": "stdout",
     "output_type": "stream",
     "text": [
      "4 is last digit of 2934\n"
     ]
    }
   ],
   "source": [
    "num = int(input(\"Enter a number: \"))\n",
    "\n",
    "if num <= 9:\n",
    "  print(f\"{num} is last digit of {num} because it is a single digit number\")\n",
    "else:\n",
    "  lastDigit = num % 10\n",
    "  print(f\"{lastDigit} is last digit of {num}\")"
   ]
  },
  {
   "cell_type": "markdown",
   "id": "691382cd",
   "metadata": {},
   "source": [
    "2. WAP to check if a single character is a vowel or not."
   ]
  },
  {
   "cell_type": "code",
   "execution_count": 5,
   "id": "350babce",
   "metadata": {},
   "outputs": [
    {
     "name": "stdout",
     "output_type": "stream",
     "text": [
      "f is not a vowel\n"
     ]
    }
   ],
   "source": [
    "ch = input(\"Enter a single character: \")\n",
    "\n",
    "if ch in 'aeiouAEIOU':\n",
    "  print(f\"{ch} is a vowel\") \n",
    "else:\n",
    "  print(f\"{ch} is not a vowel\")"
   ]
  },
  {
   "cell_type": "markdown",
   "id": "f35aa273",
   "metadata": {},
   "source": [
    "3. WAP to check if a number is even or odd where the number is taken as input."
   ]
  },
  {
   "cell_type": "code",
   "execution_count": 6,
   "id": "ff146e03",
   "metadata": {},
   "outputs": [
    {
     "name": "stdout",
     "output_type": "stream",
     "text": [
      "49 is odd.\n"
     ]
    }
   ],
   "source": [
    "num = int(input(\"Enter a number: \"))\n",
    "\n",
    "if num % 2 == 0:\n",
    "  print(f\"{num} is even.\")\n",
    "else:\n",
    "  print(f\"{num} is odd.\")"
   ]
  },
  {
   "cell_type": "markdown",
   "id": "fe70877b",
   "metadata": {},
   "source": [
    "4. WAP to check if the 3rd last character of a string is a vowel or not."
   ]
  },
  {
   "cell_type": "code",
   "execution_count": 7,
   "id": "2a99aac0",
   "metadata": {},
   "outputs": [
    {
     "name": "stdout",
     "output_type": "stream",
     "text": [
      "The 3rd last character 'f' is not a vowel.\n"
     ]
    }
   ],
   "source": [
    "str = input(\"Enter a string: \")\n",
    "\n",
    "if len(str) < 3:\n",
    "  print(\"String is too short to have a 3rd last character.\")\n",
    "else:\n",
    "  third_last_char = str[-3]\n",
    "  if third_last_char in 'aeiouAEIOU':\n",
    "    print(f\"The 3rd last character '{third_last_char}' is a vowel.\")\n",
    "  else:\n",
    "    print(f\"The 3rd last character '{third_last_char}' is not a vowel.\")"
   ]
  },
  {
   "cell_type": "markdown",
   "id": "ccb8ee6c",
   "metadata": {},
   "source": [
    "5. Check if the first and last number of a list is same or not. Take a pre-defined list in the code itself."
   ]
  },
  {
   "cell_type": "code",
   "execution_count": 9,
   "id": "10b549c4",
   "metadata": {},
   "outputs": [
    {
     "name": "stdout",
     "output_type": "stream",
     "text": [
      "The first and last elements are different.\n"
     ]
    }
   ],
   "source": [
    "list = [10, 20, 30, 40, 40]\n",
    "if list[0] == list[-1]:\n",
    "  print(\"The first and last elements are the same.\")\n",
    "else:\n",
    "  print(\"The first and last elements are different.\")"
   ]
  },
  {
   "cell_type": "markdown",
   "id": "b597d385",
   "metadata": {},
   "source": [
    "6. Calculate income tax for the input income by adhering to the Indian rules."
   ]
  },
  {
   "cell_type": "markdown",
   "id": "ae89edf9",
   "metadata": {
    "vscode": {
     "languageId": "raw"
    }
   },
   "source": [
    "New Tax Regime Slab Rate FY 2024-25  \n",
    "Net Taxable Income   &emsp; &emsp;          Tax Rate       &emsp; &emsp;                  *Surcharge  \n",
    "\n",
    "Up to ₹ 3,00,000      &emsp; &emsp;         Nil              &emsp; &emsp;                 Nil  \n",
    "₹ 3,00,001 to Rs 7,00,000  &emsp; &emsp;    5% above ₹ 3,00,000       &emsp; &emsp;        Nil  \n",
    "₹ 7,00,001 to ₹ 10,00,000  &emsp; &emsp;    ₹ 20,000 + 10% above ₹ 7,00,000 &emsp; &emsp;  Nil  \n",
    "₹ 10,00,001 to ₹ 12,00,000  &emsp; &emsp;   ₹ 50,000 + 15% above ₹ 10,00,000 &emsp; &emsp; Nil  \n",
    "₹ 12,00,001 to ₹ 15,00,000   &emsp; &emsp;  ₹ 80,000 + 20% above ₹ 12,00,000  &emsp; &emsp;Nil  \n",
    "₹ 15,00,001 to ₹ 50,00,000  &emsp; &emsp;   ₹ 1,40,000 + 30% above ₹ 15,00,000&emsp; &emsp;Nil  \n",
    "₹ 50,00,001 to ₹ 1,00,00,000  &emsp; &emsp; ₹ 1,40,000 + 30% above ₹ 15,00,000&emsp; &emsp;10%  \n",
    "₹ 1,00,00,001 to ₹ 2,00,00,000 &emsp; &emsp;₹ 1,40,000 + 30% above ₹ 15,00,000&emsp; &emsp;15%  \n",
    "Above ₹ 2,00,00,000       &emsp; &emsp;     ₹ 1,87,500 + 30% above ₹ 15,00,000&emsp; &emsp;25%  "
   ]
  },
  {
   "cell_type": "code",
   "execution_count": 12,
   "id": "90c8cace",
   "metadata": {},
   "outputs": [
    {
     "name": "stdout",
     "output_type": "stream",
     "text": [
      "Your income is: 234567890.0\n",
      "Your tax is: 80697333.75\n"
     ]
    }
   ],
   "source": [
    "income = float(input(\"Enter your income: \"))\n",
    "\n",
    "print(f\"Your income is: {income}\")\n",
    "\n",
    "if income <= 300000:\n",
    "  print(\"No tax\")\n",
    "elif income >= 300001 and income <= 700000:\n",
    "  tax = (income- 300000) * 5/100\n",
    "  print(f\"Your tax is: {tax}\")\n",
    "elif income >= 700001 and income <= 1000000:\n",
    "  tax = ((income - 700000) * 10/100) + 20000\n",
    "  print(f\"Your tax is: {tax}\")\n",
    "elif income >= 1000001 and income <- 1200000:\n",
    "  tax = ((income - 1000000) * 15/100) + 50000\n",
    "  print(f\"Your tax is: {tax}\")\n",
    "elif income >= 1200001 and income <= 1500000:\n",
    "  tax = ((income - 1200000) * 20/100) + 80000\n",
    "  print(f\"Your tax is: {tax}\")\n",
    "elif income >= 1500001 and income <= 5000000:\n",
    "  tax = ((income - 1500000) * 30/100) + 140000\n",
    "  print(f\"Your tax is: {tax}\")\n",
    "elif income >= 5000001 and income <= 10000000:\n",
    "  tax = ((income - 5000000) * 30/100) + 140000\n",
    "  Surcharge = tax * 10/100\n",
    "  totalTax = tax + Surcharge\n",
    "  print(f\"Your tax is: {totalTax}\")\n",
    "elif income >= 10000001 and income <= 20000000:\n",
    "  tax = ((income - 10000000) * 30/100) + 140000\n",
    "  Surcharge = tax * 15/100\n",
    "  totalTax = tax + Surcharge\n",
    "  print(f\"Your tax is: {totalTax}\")\n",
    "else:\n",
    "  tax = ((income - 20000000) * 30/100) + 187500\n",
    "  Surcharge = tax * 25/100\n",
    "  totalTax = tax + Surcharge\n",
    "  print(f\"Your tax is: {totalTax}\")\n"
   ]
  },
  {
   "cell_type": "markdown",
   "id": "2d5656cf",
   "metadata": {},
   "source": [
    "7. Write a Python program to check whether a string starts with vowel or not."
   ]
  },
  {
   "cell_type": "code",
   "execution_count": 14,
   "id": "d3be7722",
   "metadata": {},
   "outputs": [
    {
     "name": "stdout",
     "output_type": "stream",
     "text": [
      "The string starts with a vowel\n"
     ]
    }
   ],
   "source": [
    "str = input(\"Enter a string: \")\n",
    "\n",
    "if str[0] in 'aeiouAEIOU':\n",
    "  print(\"The string starts with a vowel\")\n",
    "else:\n",
    "  print(\"The string does not start with a vowel\")"
   ]
  },
  {
   "cell_type": "markdown",
   "id": "f20b89f5",
   "metadata": {},
   "source": [
    "8. WAP to calculate percentage of a student through 5 subjects. Take marks as input from the user.\n",
    "Using percentage print which grade the student has scored."
   ]
  },
  {
   "cell_type": "code",
   "execution_count": 16,
   "id": "4afe1dfa",
   "metadata": {},
   "outputs": [
    {
     "name": "stdout",
     "output_type": "stream",
     "text": [
      "Your percentage is: 72.2%\n",
      "Grade: B\n"
     ]
    }
   ],
   "source": [
    "Hindi = float(input(\"Enter marks of Hindi: \"))\n",
    "English = float(input(\"Enter marks of English: \"))\n",
    "Maths = float(input(\"Enter marks of Maths: \"))\n",
    "Science = float(input(\"Enter marks of Science: \"))\n",
    "SocialStudies = float(input(\"Enter marks of Social Studies: \"))\n",
    "\n",
    "totalMarks = Hindi + English + Maths + Science + SocialStudies\n",
    "percentage = (totalMarks / 500) * 100\n",
    "print(f\"Your percentage is: {percentage}%\") \n",
    "if percentage >= 95:\n",
    "  print(\"Grade: A+\")\n",
    "elif percentage >= 85:\n",
    "  print(\"Grade: A\")\n",
    "elif percentage >= 75:\n",
    "  print(\"Grade: B+\")\n",
    "elif percentage >= 65:\n",
    "  print(\"Grade: B\")\n",
    "elif percentage >= 55:\n",
    "  print(\"Grade: C+\")\n",
    "elif percentage >= 45:\n",
    "  print(\"Grade: C\")\n",
    "elif percentage >= 33:\n",
    "  print(\"Grade: D\")\n",
    "else:\n",
    "  print(\"Grade: Fail\")"
   ]
  },
  {
   "cell_type": "markdown",
   "id": "fa404f7d",
   "metadata": {},
   "source": [
    "9. WAP to convert a celsius value to fahrenheit. Take celsius value as input."
   ]
  },
  {
   "cell_type": "code",
   "execution_count": 17,
   "id": "14439337",
   "metadata": {},
   "outputs": [
    {
     "name": "stdout",
     "output_type": "stream",
     "text": [
      "80.0°C is equal to 176.0°F\n"
     ]
    }
   ],
   "source": [
    "celsius = float(input(\"Enter temperature in Celsius: \"))\n",
    "fahrenheit = (celsius * 9/5) + 32\n",
    "print(f\"{celsius}°C is equal to {fahrenheit}°F\")"
   ]
  },
  {
   "cell_type": "markdown",
   "id": "406e29e9",
   "metadata": {},
   "source": [
    "10. WAP to calculate the surface area of a triangle. Take the length of sides as input."
   ]
  },
  {
   "cell_type": "code",
   "execution_count": 18,
   "id": "53e1e51f",
   "metadata": {},
   "outputs": [
    {
     "name": "stdout",
     "output_type": "stream",
     "text": [
      "The sides form a valid triangle.\n",
      "The surface area of the triangle is: 9.0\n"
     ]
    }
   ],
   "source": [
    "side1 = float(input(\"Enter the one side of triangle: \"))\n",
    "side2 = float(input(\"Enter the second side of triangle: \"))\n",
    "side3 = float(input(\"Enter the third side of triangle: \"))\n",
    "\n",
    "if side1 + side2 > side3 and side2 + side3 > side1 and side1 + side3 > side2:\n",
    "  print(\"The sides form a valid triangle.\")\n",
    "  surfaceArea = (side1 + side2 + side3) / 2\n",
    "  print(f\"The surface area of the triangle is: {surfaceArea}\")\n",
    "else: \n",
    "  print(\"The sides do not form a valid triangle.\")"
   ]
  },
  {
   "cell_type": "markdown",
   "id": "c04483f6",
   "metadata": {},
   "source": [
    "11. WAP to print the day based on the number input.\n",
    "For example: if input = 1, output = Monday"
   ]
  },
  {
   "cell_type": "code",
   "execution_count": 19,
   "id": "65701d90",
   "metadata": {},
   "outputs": [
    {
     "name": "stdout",
     "output_type": "stream",
     "text": [
      "Saturday\n"
     ]
    }
   ],
   "source": [
    "input = int(input(\"Enter a number (1-7): \"))\n",
    "\n",
    "if input == 1:\n",
    "  print(\"Monday\")\n",
    "elif input == 2:\n",
    "  print(\"Tuesday\")\n",
    "elif input == 3:\n",
    "  print(\"Wednesday\")\n",
    "elif input == 4:\n",
    "  print(\"Thursday\")\n",
    "elif input == 5:\n",
    "  print(\"Friday\")\n",
    "elif input == 6:\n",
    "  print(\"Saturday\")\n",
    "elif input == 7:\n",
    "  print(\"Sunday\")"
   ]
  },
  {
   "cell_type": "markdown",
   "id": "d9235f1d",
   "metadata": {},
   "source": [
    "12. WAP to check whether a person is eligible to vote or not based on their age."
   ]
  },
  {
   "cell_type": "code",
   "execution_count": 8,
   "id": "c8fe9b42",
   "metadata": {},
   "outputs": [
    {
     "name": "stdout",
     "output_type": "stream",
     "text": [
      "You are eligible to vote.\n"
     ]
    }
   ],
   "source": [
    "age = int(input(\"Enter your age: \"))\n",
    "\n",
    "if age >= 18:\n",
    "  print(\"You are eligible to vote.\")\n",
    "else:\n",
    "  print(\"You are not eligible to vote.\")"
   ]
  },
  {
   "cell_type": "markdown",
   "id": "472933e2",
   "metadata": {},
   "source": [
    "13. WAP to calculate the count of elements in a string."
   ]
  },
  {
   "cell_type": "code",
   "execution_count": 7,
   "id": "2b0211e4",
   "metadata": {},
   "outputs": [
    {
     "name": "stdout",
     "output_type": "stream",
     "text": [
      "The count of elements in the string is: 5\n"
     ]
    }
   ],
   "source": [
    "strings = input(\"Enter a string: \")\n",
    "count = len(strings)\n",
    "print(f\"The count of elements in the string is: {count}\")"
   ]
  },
  {
   "cell_type": "markdown",
   "id": "8cac91e9",
   "metadata": {},
   "source": [
    "14. WAP to check using the sides of a triangle to tell if it is equilateral triangle or not."
   ]
  },
  {
   "cell_type": "code",
   "execution_count": 3,
   "id": "22af2132",
   "metadata": {},
   "outputs": [
    {
     "name": "stdout",
     "output_type": "stream",
     "text": [
      "5.0 5.0 6.0\n",
      "The triangle is not equilateral.\n"
     ]
    }
   ],
   "source": [
    "side1 = float(input(\"Enter the one side of traingle : \"))\n",
    "side2 = float(input(\"Enter the second side of traingle : \"))\n",
    "side3 = float(input(\"Enter the third side of traingle : \"))\n",
    "print(side1, side2, side3)\n",
    "\n",
    "if side1 == side2 == side3:\n",
    "  print(\"The triangle is equilateral.\")\n",
    "else:\n",
    "  print(\"The triangle is not equilateral.\")"
   ]
  },
  {
   "cell_type": "markdown",
   "id": "e17c0598",
   "metadata": {},
   "source": [
    "15. WAP to check if the 2nd last digit of numerical input from the user is divisible by 3 or not."
   ]
  },
  {
   "cell_type": "code",
   "execution_count": 5,
   "id": "0fbd7019",
   "metadata": {},
   "outputs": [
    {
     "name": "stdout",
     "output_type": "stream",
     "text": [
      "Number  467433\n",
      "The second last digit 3 is divisible by 3.\n"
     ]
    }
   ],
   "source": [
    "num = input(\"Enter a number: \")\n",
    "\n",
    "secondDigit = num[-2]\n",
    "iSecondDigit = int(secondDigit)\n",
    "print (\"Number :\", num)\n",
    "\n",
    "if iSecondDigit % 3 == 0:\n",
    "  print(f\"The second last digit {iSecondDigit} is divisible by 3.\")\n",
    "else:\n",
    "  print(f\"The second last digit {iSecondDigit} is not divisible by 3.\")"
   ]
  },
  {
   "cell_type": "markdown",
   "id": "1b304061",
   "metadata": {},
   "source": [
    "16. Write a Python program that takes two numbers as input from the user and prints the larger of the two numbers.\n"
   ]
  },
  {
   "cell_type": "code",
   "execution_count": 6,
   "id": "41e92cfe",
   "metadata": {},
   "outputs": [
    {
     "name": "stdout",
     "output_type": "stream",
     "text": [
      "66 is greater than 6.\n"
     ]
    }
   ],
   "source": [
    "num = int(input(\"Enter a number: \"))\n",
    "num2 = int(input(\"Enter another number: \"))\n",
    "\n",
    "if num > num2:\n",
    "  print(f\"{num} is greater than {num2}.\")\n",
    "else:\n",
    "  print(f\"{num2} is greater than {num}.\")\n"
   ]
  }
 ],
 "metadata": {
  "kernelspec": {
   "display_name": ".venv",
   "language": "python",
   "name": "python3"
  },
  "language_info": {
   "codemirror_mode": {
    "name": "ipython",
    "version": 3
   },
   "file_extension": ".py",
   "mimetype": "text/x-python",
   "name": "python",
   "nbconvert_exporter": "python",
   "pygments_lexer": "ipython3",
   "version": "3.13.7"
  }
 },
 "nbformat": 4,
 "nbformat_minor": 5
}
