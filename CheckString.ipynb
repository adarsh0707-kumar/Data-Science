{
 "cells": [
  {
   "cell_type": "code",
   "execution_count": null,
   "id": "cfe44962",
   "metadata": {},
   "outputs": [],
   "source": []
  },
  {
   "cell_type": "code",
   "execution_count": 2,
   "id": "6648a02a",
   "metadata": {},
   "outputs": [],
   "source": [
    "ch = input(\"Enter a string: \")"
   ]
  },
  {
   "cell_type": "code",
   "execution_count": 4,
   "id": "0fe785e4",
   "metadata": {},
   "outputs": [
    {
     "name": "stdout",
     "output_type": "stream",
     "text": [
      "Yes\n"
     ]
    }
   ],
   "source": [
    "firstCh = ch[0]\n",
    "lastCh = ch[-1]\n",
    "\n",
    "alpha = \"abcdefghijklmnopqrstuvwxyzABCDEFGHIJKLMNOPQRSTUVWXYZ\"\n",
    "spacleChar = \"!@#$%^&*()_+-=[]{};':\\\",.<>/?\\\\|`~ \"\n",
    "if(firstCh in alpha and lastCh in spacleChar):\n",
    "  print(\"Yes\")\n",
    "else:\n",
    "  print(\"No\")"
   ]
  },
  {
   "cell_type": "code",
   "execution_count": null,
   "id": "71c4186e",
   "metadata": {},
   "outputs": [],
   "source": []
  }
 ],
 "metadata": {
  "kernelspec": {
   "display_name": ".venv",
   "language": "python",
   "name": "python3"
  },
  "language_info": {
   "codemirror_mode": {
    "name": "ipython",
    "version": 3
   },
   "file_extension": ".py",
   "mimetype": "text/x-python",
   "name": "python",
   "nbconvert_exporter": "python",
   "pygments_lexer": "ipython3",
   "version": "3.13.7"
  }
 },
 "nbformat": 4,
 "nbformat_minor": 5
}
