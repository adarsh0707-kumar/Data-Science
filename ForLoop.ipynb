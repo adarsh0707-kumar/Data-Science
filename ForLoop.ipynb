{
 "cells": [
  {
   "cell_type": "code",
   "execution_count": 14,
   "id": "f27b73ca",
   "metadata": {},
   "outputs": [],
   "source": [
    "lnames = [\"Akash\", \"Aman\", \"Dev\", \"Prince\", \"Sita\"]"
   ]
  },
  {
   "cell_type": "code",
   "execution_count": 15,
   "id": "1003dd48",
   "metadata": {},
   "outputs": [
    {
     "name": "stdout",
     "output_type": "stream",
     "text": [
      "Akash A\n",
      "Aman A\n",
      "Dev D\n",
      "Prince P\n",
      "Sita S\n"
     ]
    }
   ],
   "source": [
    "\n",
    "for name in lnames:\n",
    "  print(name, name[0])"
   ]
  },
  {
   "cell_type": "markdown",
   "id": "8a157b98",
   "metadata": {},
   "source": [
    "WAP to print only those numbers ehich have their 2nd last digit as a multiple of 2\n",
    "l = [758, 12, 9783, 425, 48,4]"
   ]
  },
  {
   "cell_type": "code",
   "execution_count": 3,
   "id": "1bc6bb8a",
   "metadata": {},
   "outputs": [],
   "source": [
    "l = [758, 12, 9783, 425, 48,4]"
   ]
  },
  {
   "cell_type": "code",
   "execution_count": 4,
   "id": "53899679",
   "metadata": {},
   "outputs": [
    {
     "name": "stdout",
     "output_type": "stream",
     "text": [
      "9783\n",
      "425\n",
      "48\n"
     ]
    }
   ],
   "source": [
    "for num in l:\n",
    "  firstDigit = num // 10\n",
    "  SecondLastDigit = firstDigit % 10\n",
    "  if SecondLastDigit % 2 == 0 and firstDigit != 0:\n",
    "    print(num)"
   ]
  },
  {
   "cell_type": "code",
   "execution_count": 7,
   "id": "cbe3fe1a",
   "metadata": {},
   "outputs": [
    {
     "name": "stdout",
     "output_type": "stream",
     "text": [
      "9783\n",
      "425\n",
      "48\n"
     ]
    }
   ],
   "source": [
    "for num in l:\n",
    "  snum = str(num)\n",
    "  if len(snum) > 1 :\n",
    "    last2 = snum[-2]\n",
    "    ilast2 = int(last2)\n",
    "    if ilast2 % 2 ==0 :\n",
    "      print (num)"
   ]
  },
  {
   "cell_type": "code",
   "execution_count": null,
   "id": "54f1e21e",
   "metadata": {},
   "outputs": [
    {
     "data": {
      "text/plain": [
       "[1, 2, 3, 4, 5, 6, 7, 8, 9]"
      ]
     },
     "execution_count": 9,
     "metadata": {},
     "output_type": "execute_result"
    }
   ],
   "source": [
    "list(range(1, 10)) # Example of a range function"
   ]
  },
  {
   "cell_type": "code",
   "execution_count": 11,
   "id": "bc0be3fa",
   "metadata": {},
   "outputs": [
    {
     "name": "stdout",
     "output_type": "stream",
     "text": [
      "0\n",
      "1\n",
      "2\n",
      "3\n",
      "4\n"
     ]
    }
   ],
   "source": [
    "for i in range(5):\n",
    "  print(i)"
   ]
  },
  {
   "cell_type": "code",
   "execution_count": 18,
   "id": "4aedf525",
   "metadata": {},
   "outputs": [
    {
     "name": "stdout",
     "output_type": "stream",
     "text": [
      "Akash\n",
      "Aman\n"
     ]
    }
   ],
   "source": [
    "for i in range(len(lnames)):\n",
    "  name  = lnames[i]\n",
    "  if name[0] in \"aeiouAEIOU\":\n",
    "    print(name)"
   ]
  },
  {
   "cell_type": "markdown",
   "id": "36d9244a",
   "metadata": {},
   "source": [
    "WAP to print all the squares of first n natural number. Take n as input"
   ]
  },
  {
   "cell_type": "code",
   "execution_count": 22,
   "id": "abbfbfde",
   "metadata": {},
   "outputs": [
    {
     "name": "stdout",
     "output_type": "stream",
     "text": [
      "The square of 1 is 1\n",
      "The square of 2 is 4\n",
      "The square of 3 is 9\n",
      "The square of 4 is 16\n",
      "The square of 5 is 25\n"
     ]
    }
   ],
   "source": [
    "num = int(input(\"Enter a number: \"))\n",
    "num1 = num + 1\n",
    "for i in range(1,num1):\n",
    "  square = i ** 2\n",
    "  print(f\"The square of {i} is {square}\")"
   ]
  },
  {
   "cell_type": "markdown",
   "id": "1aca9664",
   "metadata": {},
   "source": [
    "l = [[3,9], [8,16], [4,16], [1,1]]\n",
    "### WAP to print those lists in which the 2nd elements is a square of the first element"
   ]
  },
  {
   "cell_type": "code",
   "execution_count": 27,
   "id": "233ca2b2",
   "metadata": {},
   "outputs": [
    {
     "name": "stdout",
     "output_type": "stream",
     "text": [
      "[3, 9]\n",
      "[4, 16]\n",
      "[1, 1]\n"
     ]
    }
   ],
   "source": [
    "l = [[3,9], [8,16], [4,16], [1,1]]\n",
    "\n",
    "for i in l:\n",
    "  if i[0]**2 == i[1]:\n",
    "    print(i)"
   ]
  },
  {
   "cell_type": "markdown",
   "id": "8d5deb0e",
   "metadata": {},
   "source": [
    "l = [74, 'hi', 'hello', 45, 23, 12]\n",
    "### WAP to print the count of numerical values in the list"
   ]
  },
  {
   "cell_type": "code",
   "execution_count": 30,
   "id": "6d2f487a",
   "metadata": {},
   "outputs": [
    {
     "name": "stdout",
     "output_type": "stream",
     "text": [
      "4\n"
     ]
    }
   ],
   "source": [
    "l = [74, 'hi', 'hello', 45, 23, 12]\n",
    "count = 0\n",
    "\n",
    "for i in l:\n",
    "  if type(i) == int:\n",
    "    count += 1\n",
    "print(count)"
   ]
  },
  {
   "cell_type": "markdown",
   "id": "99fb7e32",
   "metadata": {},
   "source": []
  },
  {
   "cell_type": "markdown",
   "id": "9ce045e7",
   "metadata": {},
   "source": [
    "l = [74, 'hi', 'hello', 45, 23 , 12, 71, 85, 24, '10']\n",
    "### WAP to print those elements for which the index is either multiple of 3 or 7"
   ]
  },
  {
   "cell_type": "code",
   "execution_count": 31,
   "id": "3dc0fde6",
   "metadata": {},
   "outputs": [],
   "source": [
    "l = [74, 'hi', 'hello', 45, 23 , 12, 71, 85, 24, '10']"
   ]
  },
  {
   "cell_type": "code",
   "execution_count": 32,
   "id": "ab9fa4d8",
   "metadata": {},
   "outputs": [
    {
     "name": "stdout",
     "output_type": "stream",
     "text": [
      "74\n",
      "45\n",
      "71\n",
      "85\n",
      "10\n"
     ]
    }
   ],
   "source": [
    "for i in range(len(l)):\n",
    "  if i % 3 == 0 or i % 7 == 0:\n",
    "    print(l[i])"
   ]
  },
  {
   "cell_type": "markdown",
   "id": "3519495b",
   "metadata": {},
   "source": [
    "WAP to print the input is prime or not."
   ]
  },
  {
   "cell_type": "code",
   "execution_count": null,
   "id": "5ac61160",
   "metadata": {},
   "outputs": [
    {
     "name": "stdout",
     "output_type": "stream",
     "text": [
      "4 is not a prime number\n"
     ]
    }
   ],
   "source": [
    "num = int(input(\"Enter a number: \"))\n",
    "if num <= 1:\n",
    "  print(f\"{num} is a prime number\")\n",
    "elif num > 1:\n",
    "  for i in range(2, num):\n",
    "    if (num % i) == 0:\n",
    "      print(f\"{num} is not a prime number\")\n",
    "      break\n",
    "    else:\n",
    "      print(f\"{num} is a prime number\")"
   ]
  },
  {
   "cell_type": "code",
   "execution_count": null,
   "id": "09517f13",
   "metadata": {},
   "outputs": [],
   "source": []
  },
  {
   "cell_type": "code",
   "execution_count": null,
   "id": "9f83cbe5",
   "metadata": {},
   "outputs": [],
   "source": []
  },
  {
   "cell_type": "code",
   "execution_count": null,
   "id": "88a9a475",
   "metadata": {},
   "outputs": [],
   "source": []
  },
  {
   "cell_type": "code",
   "execution_count": null,
   "id": "e4a108ae",
   "metadata": {},
   "outputs": [],
   "source": []
  },
  {
   "cell_type": "code",
   "execution_count": null,
   "id": "58c48587",
   "metadata": {},
   "outputs": [],
   "source": []
  }
 ],
 "metadata": {
  "kernelspec": {
   "display_name": ".venv",
   "language": "python",
   "name": "python3"
  },
  "language_info": {
   "codemirror_mode": {
    "name": "ipython",
    "version": 3
   },
   "file_extension": ".py",
   "mimetype": "text/x-python",
   "name": "python",
   "nbconvert_exporter": "python",
   "pygments_lexer": "ipython3",
   "version": "3.13.7"
  }
 },
 "nbformat": 4,
 "nbformat_minor": 5
}
