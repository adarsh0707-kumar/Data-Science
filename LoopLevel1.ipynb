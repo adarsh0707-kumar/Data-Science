{
 "cells": [
  {
   "cell_type": "markdown",
   "id": "b5a7057c",
   "metadata": {},
   "source": [
    "Loop practice questions in Python - Level 1"
   ]
  },
  {
   "cell_type": "markdown",
   "id": "92531f3d",
   "metadata": {},
   "source": [
    "1. WAP to print the first and last character of all the names in the given list  \n",
    "l = ['Mayank', 'Aniket', 'Saurabh', 'Rahul']  \n",
    "Expected output:  \n",
    "M k  \n",
    "A t  \n",
    "S h  \n",
    "R l  "
   ]
  },
  {
   "cell_type": "code",
   "execution_count": 1,
   "id": "f24b14ed",
   "metadata": {},
   "outputs": [
    {
     "name": "stdout",
     "output_type": "stream",
     "text": [
      "M k\n",
      "A t\n",
      "S h\n",
      "R l\n"
     ]
    }
   ],
   "source": [
    "l = ['Mayank', 'Aniket', 'Saurabh', 'Rahul'] \n",
    "\n",
    "for name in l:\n",
    "  print(name[0], name[-1])\n"
   ]
  },
  {
   "cell_type": "markdown",
   "id": "7439233a",
   "metadata": {},
   "source": [
    "2. Write a Python program that takes two inputs from the user:  \n",
    "An integer n representing the number of whole numbers (starting from 0).  \n",
    "An integer p representing the power to which each whole number should be raised.  \n",
    "The program should print the powers of the first n whole numbers.  \n",
    "Example Input:  \n",
    "Enter the value of n: 5  \n",
    "Enter the value of p: 2  \n",
    "Example Output:  \n",
    "0^2 = 0  \n",
    "1^2 = 1  \n",
    "2^2 = 4  \n",
    "3^2 = 9  \n",
    "4^2 = 16  \n",
    "5^2 = 25  "
   ]
  },
  {
   "cell_type": "code",
   "execution_count": 3,
   "id": "d0612e2f",
   "metadata": {},
   "outputs": [
    {
     "name": "stdout",
     "output_type": "stream",
     "text": [
      "0^3 = 0\n",
      "1^3 = 1\n",
      "2^3 = 8\n",
      "3^3 = 27\n",
      "4^3 = 64\n",
      "5^3 = 125\n"
     ]
    }
   ],
   "source": [
    "n = int(input(\"Enter a number  n: \"))\n",
    "p = int(input(\"Enter a number  p of power: \"))\n",
    "\n",
    "for i in range(n+1):\n",
    "  print(f\"{i}^{p} = {i**p}\")"
   ]
  },
  {
   "cell_type": "markdown",
   "id": "c3980c17",
   "metadata": {},
   "source": [
    "3. WAP to print the data type of each element in the given tuple.  \n",
    "t = ('Someone', 34, 'hi', 12.983, 34 +9j)  \n",
    "\n",
    "Expected Output:  \n",
    "Someone, Type: <class ‘str’>  \n",
    "34, Type: <class ‘int’>  \n",
    "hi, Type: <class ‘str’>  \n",
    "12.983, Type: <class ‘float’>  \n",
    "(34+9j), Type: <class ‘complex’>  \n"
   ]
  },
  {
   "cell_type": "code",
   "execution_count": 4,
   "id": "b899e953",
   "metadata": {},
   "outputs": [
    {
     "name": "stdout",
     "output_type": "stream",
     "text": [
      "Someone, Type: <class 'str'>\n",
      "34, Type: <class 'int'>\n",
      "hi, Type: <class 'str'>\n",
      "12.983, Type: <class 'float'>\n",
      "(34+9j), Type: <class 'complex'>\n"
     ]
    }
   ],
   "source": [
    "t = ('Someone', 34, 'hi', 12.983, 34 +9j)\n",
    "\n",
    "for item in t: \n",
    "  print(f\"{item}, Type: {type(item)}\")"
   ]
  },
  {
   "cell_type": "markdown",
   "id": "bd2d102e",
   "metadata": {},
   "source": [
    "4. WAP to print all the two digit even numbers which are also a multiple of 3.  \n",
    "Expected Output:  \n",
    "12 18 24 30 36 42 48 54 60 66 72 78 84 90 96"
   ]
  },
  {
   "cell_type": "code",
   "execution_count": 5,
   "id": "6a4322e0",
   "metadata": {},
   "outputs": [
    {
     "name": "stdout",
     "output_type": "stream",
     "text": [
      "12 18 24 30 36 42 48 54 60 66 72 78 84 90 96 "
     ]
    }
   ],
   "source": [
    "for i in range(10, 100):\n",
    "  if i % 2 == 0 and i % 3 == 0:\n",
    "    print(i, end=\" \")"
   ]
  },
  {
   "cell_type": "markdown",
   "id": "3a228ba9",
   "metadata": {},
   "source": [
    "5. WAP to print the sum of individual tuples separately.  \n",
    "marksList = [(23, 24, 31), (56, 34, 53), (42, 58, 31)]  \n",
    "Expected Output:  \n",
    "Sum of (23, 24, 31) = 78  \n",
    "Sum of (56, 34, 53) = 143  \n",
    "Sum of (42, 58, 31) = 131  "
   ]
  },
  {
   "cell_type": "code",
   "execution_count": 6,
   "id": "b88d973b",
   "metadata": {},
   "outputs": [
    {
     "name": "stdout",
     "output_type": "stream",
     "text": [
      "Sum of (23, 24, 31) = 78\n",
      "Sum of (56, 34, 53) = 143\n",
      "Sum of (42, 58, 31) = 131\n"
     ]
    }
   ],
   "source": [
    "marksList = [(23, 24, 31), (56, 34, 53), (42, 58, 31)]\n",
    "for marks in marksList:\n",
    "  print(f\"Sum of {marks} = {sum(marks)}\")"
   ]
  },
  {
   "cell_type": "markdown",
   "id": "608bcb1b",
   "metadata": {},
   "source": [
    "6. Write a Python program to print all numbers between 30 and 300 that are multiples of both 2 and 7.  \n",
    "Expected output:  \n",
    "42 56 70 84 98 112 126 140 154 168 182 196 210 224 238 252 266 280 294"
   ]
  },
  {
   "cell_type": "code",
   "execution_count": 9,
   "id": "dc7eb5a3",
   "metadata": {},
   "outputs": [
    {
     "name": "stdout",
     "output_type": "stream",
     "text": [
      "42 56 70 84 98 112 126 140 154 168 182 196 210 224 238 252 266 280 294 "
     ]
    }
   ],
   "source": [
    "for i in range(30, 300):\n",
    "  if i%2 ==0 and i % 7 == 0:\n",
    "    print(i, end=\" \")"
   ]
  },
  {
   "cell_type": "markdown",
   "id": "81fa7b89",
   "metadata": {},
   "source": [
    "7. t = (23, 45, 67, 90, 12, 10)  \n",
    "WAP to print even or odd for all the numbers in the given tuple.  \n",
    "Expected Output:  \n",
    "23 – Odd  \n",
    "45 – Odd  \n",
    "67 – Odd  \n",
    "90 – Even  \n",
    "12 – Even  \n",
    "10 – Even"
   ]
  },
  {
   "cell_type": "code",
   "execution_count": 10,
   "id": "edbff631",
   "metadata": {},
   "outputs": [
    {
     "name": "stdout",
     "output_type": "stream",
     "text": [
      "23 - Odd\n",
      "45 - Odd\n",
      "67 - Odd\n",
      "90 - Even\n",
      "12 - Even\n",
      "10 - Even\n"
     ]
    }
   ],
   "source": [
    "t = (23, 45, 67, 90, 12, 10)\n",
    "for num in t:\n",
    "  if num % 2 == 0:\n",
    "    print(f\"{num} - Even\")\n",
    "  else:\n",
    "    print(f\"{num} - Odd\")"
   ]
  },
  {
   "cell_type": "markdown",
   "id": "9066181d",
   "metadata": {},
   "source": [
    "8. Write a Python program that takes a string input from the user and reverses it.  \n",
    "Note: Don’t use slicing  \n",
    " Example Input: Enter a string: Python  \n",
    "Expected Output: Reversed string: nohtyP  "
   ]
  },
  {
   "cell_type": "code",
   "execution_count": 12,
   "id": "1339edad",
   "metadata": {},
   "outputs": [
    {
     "name": "stdout",
     "output_type": "stream",
     "text": [
      "Reversed string: nohtyP\n"
     ]
    }
   ],
   "source": [
    "string = input(\"Enter a string: \")\n",
    "reversed_string = \"\"\n",
    "for char in range(len(string)-1, -1, -1):\n",
    "  reversed_string += string[char]\n",
    "print(f\"Reversed string: {reversed_string}\")"
   ]
  },
  {
   "cell_type": "markdown",
   "id": "9dc6f8c5",
   "metadata": {},
   "source": [
    "9. WAP to print the 2nd digit of all the numbers from this given collection.  \n",
    "t = (23, 45, 67, 90, 12, 10)  \n",
    "Note: If a number has only one digit, print \"No second digit\".  \n",
    "Expected Output:  \n",
    "23 → 3  \n",
    "45 → 5  \n",
    "67 → 7  \n",
    "90 → 0  \n",
    "12 → 2  \n",
    "10 → 0  "
   ]
  },
  {
   "cell_type": "code",
   "execution_count": 13,
   "id": "526a73ef",
   "metadata": {},
   "outputs": [
    {
     "name": "stdout",
     "output_type": "stream",
     "text": [
      "23 → 3\n",
      "45 → 5\n",
      "67 → 7\n",
      "90 → 0\n",
      "12 → 2\n",
      "10 → 0\n"
     ]
    }
   ],
   "source": [
    "t = (23, 45, 67, 90, 12, 10)\n",
    "\n",
    "for num in t:\n",
    "  num_str = str(num)\n",
    "  if len(num_str) < 2:\n",
    "    print(f\"{num} → No second digit\")\n",
    "  else:\n",
    "    print(f\"{num} → {num_str[1]}\")"
   ]
  },
  {
   "cell_type": "markdown",
   "id": "1bcff54a",
   "metadata": {},
   "source": [
    "10. WAP to print all the numerical data from the given list.  \n",
    "l = [2, 5, 'a', 5, 'r', 7, 'm', 't', '4']  \n",
    "Expected Output:  \n",
    "2  \n",
    "5  \n",
    "5  \n",
    "7  \n",
    "4  "
   ]
  },
  {
   "cell_type": "code",
   "execution_count": null,
   "id": "09351dce",
   "metadata": {},
   "outputs": [
    {
     "name": "stdout",
     "output_type": "stream",
     "text": [
      "2\n",
      "5\n",
      "5\n",
      "7\n",
      "4\n"
     ]
    }
   ],
   "source": [
    "l = [2, 5, 'a', 5, 'r', 7, 'm', 't', '4']\n",
    "for item in l:\n",
    "  if type(item) == int or type(item) == float or type(item) == complex:\n",
    "    print(item)\n",
    "    \n",
    "  if type(item) == str:\n",
    "    if item.isalpha() == False:\n",
    "      print(item)"
   ]
  },
  {
   "cell_type": "markdown",
   "id": "bb8e0695",
   "metadata": {},
   "source": [
    "11. WAP in Python to calculate the sum of all numbers from 1 to n.  \n",
    "Take n as input from the user.  \n",
    "Example Input: Enter the value of n: 5  \n",
    "Example Output: Sum of numbers from 1 to 5 = 15"
   ]
  },
  {
   "cell_type": "code",
   "execution_count": 21,
   "id": "0f29ca56",
   "metadata": {},
   "outputs": [
    {
     "name": "stdout",
     "output_type": "stream",
     "text": [
      "Sum of numbers from 1 to 5 = 15\n"
     ]
    }
   ],
   "source": [
    "num = int(input(\"Enter a number: \"))\n",
    "sum = 0\n",
    "for i in range(1, num+1):\n",
    "  sum += i\n",
    "print(f\"Sum of numbers from 1 to {num} = {sum}\")"
   ]
  },
  {
   "cell_type": "markdown",
   "id": "dc1f69f5",
   "metadata": {},
   "source": [
    "12. Write a Python program that takes a number as input from the user and counts the total number of digits in the number.  \n",
    "Example Input: Enter a number: 78645  \n",
    "Example Output: Total number of digits: 5"
   ]
  },
  {
   "cell_type": "code",
   "execution_count": 22,
   "id": "d473183f",
   "metadata": {},
   "outputs": [
    {
     "name": "stdout",
     "output_type": "stream",
     "text": [
      "Total number of digits: 8\n"
     ]
    }
   ],
   "source": [
    "num = input(\"Enter a number: \")\n",
    "\n",
    "print(f\"Total number of digits: {len(num)}\")"
   ]
  },
  {
   "cell_type": "markdown",
   "id": "11ed7441",
   "metadata": {},
   "source": [
    "13. Write a Python program that takes a number as input from the user and calculates its factorial.  \n",
    "(Factorial of n is the product of all positive integers from 1 to n, denoted as n!.)  \n",
    "Example Input: Enter a number: 5  \n",
    "Example Output: Factorial of 5 is 120  "
   ]
  },
  {
   "cell_type": "code",
   "execution_count": 23,
   "id": "5b87cb8a",
   "metadata": {},
   "outputs": [
    {
     "name": "stdout",
     "output_type": "stream",
     "text": [
      "Factorial of 5 is 120\n"
     ]
    }
   ],
   "source": [
    "num = int(input(\"Enter a number: \"))\n",
    "\n",
    "factorial = 1\n",
    "for i in range(1, num+1):\n",
    "  factorial *= i\n",
    "print(f\"Factorial of {num} is {factorial}\")"
   ]
  },
  {
   "cell_type": "markdown",
   "id": "50c13805",
   "metadata": {},
   "source": [
    "14. Print the following pattern using a loop.  \n",
    "Take the number of rows as input from the user.  \n",
    "5 4 3 2 1  \n",
    "4 3 2 1  \n",
    "3 2 1  \n",
    "2 1  \n",
    "1  \n",
    "Example Input 1: Enter the number of rows: 5  \n",
    "Example Output 1:  \n",
    "5 4 3 2 1  \n",
    "4 3 2 1  \n",
    "3 2 1  \n",
    "2 1  \n",
    "1  \n",
    "Example Input 2: Enter the number of rows: 3  \n",
    "Example Output 2:  \n",
    "3 2 1  \n",
    "2 1  \n",
    "1\n"
   ]
  },
  {
   "cell_type": "code",
   "execution_count": 40,
   "id": "ad0604e4",
   "metadata": {},
   "outputs": [
    {
     "name": "stdout",
     "output_type": "stream",
     "text": [
      "5 4 3 2 1 \n",
      "4 3 2 1 \n",
      "3 2 1 \n",
      "2 1 \n",
      "1 \n"
     ]
    }
   ],
   "source": [
    "row = int(input(\"Enter number of rows: \"))\n",
    "\n",
    "for i in range(row,0,-1):\n",
    "  print(i, end=\" \")\n",
    "  for j in range(i-1, 0, -1):\n",
    "    print(j, end=\" \")\n",
    "  print()"
   ]
  }
 ],
 "metadata": {
  "kernelspec": {
   "display_name": ".venv",
   "language": "python",
   "name": "python3"
  },
  "language_info": {
   "codemirror_mode": {
    "name": "ipython",
    "version": 3
   },
   "file_extension": ".py",
   "mimetype": "text/x-python",
   "name": "python",
   "nbconvert_exporter": "python",
   "pygments_lexer": "ipython3",
   "version": "3.13.7"
  }
 },
 "nbformat": 4,
 "nbformat_minor": 5
}
