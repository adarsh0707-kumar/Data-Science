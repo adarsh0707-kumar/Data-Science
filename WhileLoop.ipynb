{
 "cells": [
  {
   "cell_type": "markdown",
   "id": "c3269bcb",
   "metadata": {},
   "source": [
    "While Loop"
   ]
  },
  {
   "cell_type": "markdown",
   "id": "29832cd6",
   "metadata": {},
   "source": [
    "Print first n natural numbers using while loop"
   ]
  },
  {
   "cell_type": "code",
   "execution_count": 4,
   "id": "eede2d83",
   "metadata": {},
   "outputs": [
    {
     "name": "stdout",
     "output_type": "stream",
     "text": [
      "1\n",
      "2\n",
      "3\n",
      "4\n",
      "5\n",
      "6\n",
      "7\n",
      "8\n",
      "9\n",
      "10\n",
      "11\n",
      "12\n",
      "13\n",
      "14\n",
      "15\n",
      "16\n",
      "17\n",
      "18\n",
      "19\n",
      "20\n",
      "21\n",
      "22\n",
      "23\n",
      "24\n",
      "25\n",
      "26\n",
      "27\n",
      "28\n",
      "29\n",
      "30\n",
      "31\n",
      "32\n",
      "33\n",
      "34\n",
      "35\n",
      "36\n",
      "37\n",
      "38\n",
      "39\n",
      "40\n",
      "41\n",
      "42\n",
      "43\n",
      "44\n",
      "45\n",
      "46\n",
      "47\n",
      "48\n",
      "49\n",
      "50\n",
      "51\n",
      "52\n",
      "53\n",
      "54\n",
      "55\n",
      "56\n",
      "57\n",
      "58\n",
      "59\n",
      "60\n",
      "61\n",
      "62\n",
      "63\n",
      "64\n",
      "65\n",
      "66\n",
      "67\n",
      "68\n",
      "69\n",
      "70\n",
      "71\n",
      "72\n",
      "73\n",
      "74\n",
      "75\n",
      "76\n",
      "77\n",
      "78\n",
      "79\n",
      "80\n",
      "81\n",
      "82\n",
      "83\n",
      "84\n",
      "85\n",
      "86\n",
      "87\n",
      "88\n",
      "89\n",
      "90\n",
      "91\n",
      "92\n",
      "93\n",
      "94\n",
      "95\n",
      "96\n",
      "97\n",
      "98\n",
      "99\n",
      "100\n"
     ]
    }
   ],
   "source": [
    "n = int(input(\"Enter a number: \"))\n",
    "i= 1\n",
    "while i <= n:\n",
    "  print(i)\n",
    "  i += 1"
   ]
  },
  {
   "cell_type": "code",
   "execution_count": null,
   "id": "6087b0fb",
   "metadata": {},
   "outputs": [
    {
     "name": "stdout",
     "output_type": "stream",
     "text": [
      "1\n",
      "2\n",
      "3\n",
      "4\n",
      "5\n",
      "6\n"
     ]
    }
   ],
   "source": []
  },
  {
   "cell_type": "code",
   "execution_count": null,
   "id": "cd967680",
   "metadata": {},
   "outputs": [],
   "source": []
  },
  {
   "cell_type": "code",
   "execution_count": 11,
   "id": "4816b062",
   "metadata": {},
   "outputs": [
    {
     "name": "stdout",
     "output_type": "stream",
     "text": [
      "1 Adding 5 to the sum.\n",
      "2 Adding 6 to the sum.\n",
      "3 Adding 5 to the sum.\n",
      "4 Adding 4 to the sum.\n",
      "5 Adding 2 to the sum.\n",
      "6 Adding 1 to the sum.\n",
      "Exiting the loop.\n",
      "The sum of the digits is: 23\n"
     ]
    }
   ],
   "source": [
    "sum = 0\n",
    "i = 1\n",
    "while True:\n",
    "  n = int(input(\"Enter a number: \"))\n",
    "  if n == 0:\n",
    "    print(\"Exiting the loop.\")\n",
    "    break\n",
    "  else:\n",
    "    print(f\"{i} Adding {n} to the sum.\")\n",
    "    sum +=  n\n",
    "    i+= 1\n",
    "  \n",
    "print(f\"The sum of the digits is: {sum}\")"
   ]
  },
  {
   "cell_type": "code",
   "execution_count": null,
   "id": "19a26f4e",
   "metadata": {},
   "outputs": [
    {
     "name": "stdout",
     "output_type": "stream",
     "text": [
      "5 is odd\n",
      "6 is even\n",
      "3 is odd\n",
      "Exiting the loop.\n"
     ]
    }
   ],
   "source": [
    "while True:\n",
    "  upper = \"\"\n",
    "  n = input(\"Enter value:  \")\n",
    "  if n.isalpha():\n",
    "    upper = n.upper()\n",
    "\n",
    "  if upper == \"STOP\":\n",
    "    print(\"Exiting the loop.\")\n",
    "    break\n",
    "\n",
    "  nInInt = int(n)\n",
    "  \n",
    "  if nInInt % 2 == 0:\n",
    "    print(f\"{nInInt} is even\")\n",
    "  else:\n",
    "    print(f\"{nInInt} is odd\")\n",
    "\n"
   ]
  },
  {
   "cell_type": "code",
   "execution_count": 4,
   "id": "8155c55d",
   "metadata": {},
   "outputs": [
    {
     "name": "stdout",
     "output_type": "stream",
     "text": [
      "5 is a prime number\n"
     ]
    }
   ],
   "source": [
    "num = int(input(\"Enter a number: \"))\n",
    "prime = True\n",
    "i = 2\n",
    "if num <= 1:\n",
    "  print(f\"{num} not is a prime number\")\n",
    "elif num > 1:\n",
    "  while i < num:\n",
    "    if (num % i) == 0:\n",
    "      prime = False\n",
    "      break\n",
    "    else:\n",
    "      prime = True\n",
    "    i += 1\n",
    "\n",
    "  if prime:\n",
    "    print(f\"{num} is a prime number\")\n",
    "  else:\n",
    "    print(f\"{num} is not a prime number\")"
   ]
  },
  {
   "cell_type": "code",
   "execution_count": null,
   "id": "27dcb583",
   "metadata": {},
   "outputs": [],
   "source": []
  },
  {
   "cell_type": "code",
   "execution_count": null,
   "id": "eab3a4a4",
   "metadata": {},
   "outputs": [],
   "source": []
  },
  {
   "cell_type": "code",
   "execution_count": null,
   "id": "5f801c8c",
   "metadata": {},
   "outputs": [],
   "source": []
  }
 ],
 "metadata": {
  "kernelspec": {
   "display_name": ".venv",
   "language": "python",
   "name": "python3"
  },
  "language_info": {
   "codemirror_mode": {
    "name": "ipython",
    "version": 3
   },
   "file_extension": ".py",
   "mimetype": "text/x-python",
   "name": "python",
   "nbconvert_exporter": "python",
   "pygments_lexer": "ipython3",
   "version": "3.13.7"
  }
 },
 "nbformat": 4,
 "nbformat_minor": 5
}
