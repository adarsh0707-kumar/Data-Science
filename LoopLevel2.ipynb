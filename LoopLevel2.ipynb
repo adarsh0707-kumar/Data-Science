{
 "cells": [
  {
   "cell_type": "markdown",
   "id": "a71226d0",
   "metadata": {},
   "source": [
    "\n",
    "Loop practice questions in Python - Level 2\n"
   ]
  },
  {
   "cell_type": "markdown",
   "id": "5db8ee71",
   "metadata": {},
   "source": [
    "1. WAP in Python to print only the string datatype from the given list  \n",
    "   a = [‘Samarth’, ‘Kunal’, ‘Jatin’, 12, 75.5]"
   ]
  },
  {
   "cell_type": "code",
   "execution_count": 4,
   "id": "4cb1f03c",
   "metadata": {},
   "outputs": [
    {
     "name": "stdout",
     "output_type": "stream",
     "text": [
      "Samarth\n",
      "Kunal\n",
      "Jatin\n"
     ]
    }
   ],
   "source": [
    "a = ['Samarth', 'Kunal', 'Jatin', 12, 75.5] \n",
    "\n",
    "for i in a:\n",
    "  if type(i) == str:\n",
    "    print(i)"
   ]
  },
  {
   "cell_type": "markdown",
   "id": "13d8c495",
   "metadata": {},
   "source": [
    "2. WAP in Python to whether an input number is a Armstrong number or not.  \n",
    "An Armstrong number is a number that is equal to the sum of its digits, each raised to the power of the number of digits in the number.   \n",
    "For example, 153 is an Armstrong number because 1^3 + 5^3 + 3^3 = 153.  \n",
    "Single-digit numbers: All single-digit numbers (0-9) are Armstrong numbers.  \n",
    "Three-digit numbers: 153, 370, 371, and 407 are three-digit Armstrong numbers.  \n",
    "Four-digit numbers: 1634, 8208, and 9474 are four-digit Armstrong numbers.  "
   ]
  },
  {
   "cell_type": "code",
   "execution_count": 13,
   "id": "5c6f98f7",
   "metadata": {},
   "outputs": [
    {
     "name": "stdout",
     "output_type": "stream",
     "text": [
      "8208 is Armstrong.\n"
     ]
    }
   ],
   "source": [
    "num = input(\"Enter a number: \")\n",
    "\n",
    "armstrong = 0\n",
    "power = len(num)\n",
    "\n",
    "\n",
    "for i in num:\n",
    "  i = int(i)\n",
    "  digit = i** power\n",
    "  armstrong += digit\n",
    "  \n",
    "\n",
    "if armstrong == int(num):\n",
    "  print(f\"{num} is Armstrong.\")\n",
    "else:\n",
    "  print(f\"{num} is not Armstrong.\")\n"
   ]
  },
  {
   "cell_type": "markdown",
   "id": "fe93ab7b",
   "metadata": {},
   "source": [
    "3. d = {5:16, 3:9, 10:81, 1:0, 6:36}  \n",
    "WAP in python to print the sum of only those keys from the dictionary for which the value is NOT a square of the keys"
   ]
  },
  {
   "cell_type": "code",
   "execution_count": 14,
   "id": "66334c58",
   "metadata": {},
   "outputs": [
    {
     "name": "stdout",
     "output_type": "stream",
     "text": [
      "5\n",
      "10\n",
      "1\n"
     ]
    }
   ],
   "source": [
    "d = {5:16, 3:9, 10:81, 1:0, 6:36}\n",
    "\n",
    "for key, value in d.items():\n",
    "  if key**2 != value:\n",
    "    print(key)"
   ]
  },
  {
   "cell_type": "markdown",
   "id": "6147c3bc",
   "metadata": {},
   "source": [
    "4. WAP to take a number as input from the user and print the sum of its’ digits."
   ]
  },
  {
   "cell_type": "code",
   "execution_count": 16,
   "id": "ba0f7ff9",
   "metadata": {},
   "outputs": [
    {
     "name": "stdout",
     "output_type": "stream",
     "text": [
      "The sum of digits in 123456789 is 45.\n"
     ]
    }
   ],
   "source": [
    "num = input(\"Enter a number: \")\n",
    "sum = 0\n",
    "\n",
    "for i in num:\n",
    "  sum += int(i)\n",
    "print(f\"The sum of digits in {num} is {sum}.\")"
   ]
  },
  {
   "cell_type": "markdown",
   "id": "2961d47a",
   "metadata": {},
   "source": [
    "5. li1 =[10, 20, 50, 80, 60]  \n",
    "li2 = [50, 88, 95, 76, 81, 10, 60, 50, 60]  \n",
    "WAP in Python to print the common elements between the given two lists.  \n",
    "Maintain the order of the elements"
   ]
  },
  {
   "cell_type": "code",
   "execution_count": 18,
   "id": "48e00a22",
   "metadata": {},
   "outputs": [
    {
     "name": "stdout",
     "output_type": "stream",
     "text": [
      "[10, 50, 60]\n"
     ]
    }
   ],
   "source": [
    "li1 =[10, 20, 50, 80, 60]  \n",
    "li2 = [50, 88, 95, 76, 81, 10, 60, 50, 60] \n",
    "\n",
    "commounList = []\n",
    "for i in li1:\n",
    "  if i in li2 and i not in commounList:\n",
    "    commounList.append(i)\n",
    "print(commounList)"
   ]
  },
  {
   "cell_type": "markdown",
   "id": "a6ea0680",
   "metadata": {},
   "source": [
    "6. d = {“Samarth”:[45, 60, 50, 70], “Jatin”: [90, 95, 93, 91, 90], “Nishant”:[93, 99, 98, 97, 91]}  \n",
    "WAP in Python to calculate the average of the marks for each student and print it."
   ]
  },
  {
   "cell_type": "code",
   "execution_count": 23,
   "id": "67bee1c2",
   "metadata": {},
   "outputs": [
    {
     "name": "stdout",
     "output_type": "stream",
     "text": [
      "The average of Samarth is 56.25.\n",
      "The average of Jatin is 136.8.\n",
      "The average of Nishant is 232.4.\n"
     ]
    }
   ],
   "source": [
    "d = {'Samarth':[45, 60, 50, 70], 'Jatin': [90, 95, 93, 91, 90], 'Nishant':[93, 99, 98, 97, 91]} \n",
    "markSum = 0 \n",
    "for key, value in d.items():\n",
    "  for i in value:\n",
    "    markSum += i\n",
    "  avg = markSum / len(value)\n",
    "  print(f\"The average of {key} is {avg}.\")"
   ]
  },
  {
   "cell_type": "markdown",
   "id": "31c3b8f2",
   "metadata": {},
   "source": [
    "7. Name = [“Samarth”, “Jatin”, “Nishant”, “Harsg”, “Dabru”, “Kunal”]  \n",
    "Roll_no = [1, 20, 13, 4, 9, 11]  \n",
    "WAP to search if a particular student name/rollno is present in the list or not. Take name/rollno as input and print the corresponding data.  \n",
    "For e.g.  \n",
    "If user enters 4, print Harsh  \n",
    "If user enters Kunal, print 11  \n",
    "If user enters Mayank, print “Does not Exist”"
   ]
  },
  {
   "cell_type": "code",
   "execution_count": 24,
   "id": "a8a03aee",
   "metadata": {},
   "outputs": [
    {
     "name": "stdout",
     "output_type": "stream",
     "text": [
      "The name corresponding to roll no 4 is Harsg.\n"
     ]
    }
   ],
   "source": [
    "Name = ['Samarth', 'Jatin', 'Nishant', 'Harsg', 'Dabru', 'Kunal']\n",
    "Roll_no = [1, 20, 13, 4, 9, 11]\n",
    "\n",
    "search = input(\"Enter Name or Roll No to search: \")\n",
    "\n",
    "if search.isdigit():\n",
    "  search = int(search)\n",
    "  if search in Roll_no:\n",
    "    index = Roll_no.index(search)\n",
    "    print(f\"The name corresponding to roll no {search} is {Name[index]}.\")\n",
    "  else:\n",
    "    print(\"Does not Exist\")\n",
    "else:\n",
    "  if search in Name:\n",
    "    index = Name.index(search)\n",
    "    print(f\"The roll no corresponding to name {search} is {Roll_no[index]}.\")\n",
    "  else:\n",
    "    print(\"Does not Exist\")"
   ]
  },
  {
   "cell_type": "markdown",
   "id": "60a5802b",
   "metadata": {},
   "source": [
    "8. WAP to print the digits of an input number in word format.  \n",
    "  i/p: Enter any number 85200  \n",
    "  o/p:   \n",
    "Eight  \n",
    "Five  \n",
    "Two  \n",
    "Zero  \n",
    "Zero  "
   ]
  },
  {
   "cell_type": "code",
   "execution_count": 25,
   "id": "40bed4f6",
   "metadata": {},
   "outputs": [
    {
     "name": "stdout",
     "output_type": "stream",
     "text": [
      "Two\n",
      "Three\n",
      "Four\n",
      "Five\n"
     ]
    }
   ],
   "source": [
    "NumberInWord = {\n",
    "    '0': 'Zero',\n",
    "    '1': 'One',\n",
    "    '2': 'Two',\n",
    "    '3': 'Three',\n",
    "    '4': 'Four',\n",
    "    '5': 'Five',\n",
    "    '6': 'Six',\n",
    "    '7': 'Seven',\n",
    "    '8': 'Eight',\n",
    "    '9': 'Nine'\n",
    "}\n",
    "\n",
    "num = input(\"Enter any number: \")\n",
    "for i in num:\n",
    "  print(NumberInWord[i])"
   ]
  },
  {
   "cell_type": "markdown",
   "id": "42e891bc",
   "metadata": {},
   "source": [
    "9. WAP to create a fibonacci sequence of n digits. Take n as input."
   ]
  },
  {
   "cell_type": "code",
   "execution_count": 28,
   "id": "c32c346e",
   "metadata": {},
   "outputs": [
    {
     "name": "stdout",
     "output_type": "stream",
     "text": [
      "Fibonacci sequence upto 5 :\n",
      "0 1 1 2 3 "
     ]
    }
   ],
   "source": [
    "n = int(input(\"Enter the number of digits in Fibonacci sequence: \"))\n",
    "a, b = 0, 1\n",
    "count = 0\n",
    "if n <= 0:\n",
    "  print(\"Please enter a positive integer.\")\n",
    "elif n == 1:\n",
    "  print(\"Fibonacci sequence upto\", n, \":\")\n",
    "  print(a)\n",
    "else:\n",
    "  print(\"Fibonacci sequence upto\", n, \":\")\n",
    "  while count < n:\n",
    "    print(a, end=' ')\n",
    "    c = a + b\n",
    "    a = b\n",
    "    b = c\n",
    "    count += 1"
   ]
  },
  {
   "cell_type": "markdown",
   "id": "abce429d",
   "metadata": {},
   "source": [
    "10. WAP to convert a decimal number to binary number.  \n",
    "    For e.g. i/p = 10  \n",
    "             o/p = 1010"
   ]
  },
  {
   "cell_type": "code",
   "execution_count": 29,
   "id": "c4605aa0",
   "metadata": {},
   "outputs": [
    {
     "name": "stdout",
     "output_type": "stream",
     "text": [
      "The binary representation is: 101\n"
     ]
    }
   ],
   "source": [
    "decimal = int(input(\"Enter a decimal number: \"))\n",
    "binary = ''\n",
    "if decimal == 0:\n",
    "  binary = '0'\n",
    "while decimal > 0:\n",
    "  remainder = decimal % 2\n",
    "  binary = str(remainder) + binary\n",
    "  decimal = decimal // 2\n",
    "print(f\"The binary representation is: {binary}\")"
   ]
  }
 ],
 "metadata": {
  "kernelspec": {
   "display_name": ".venv",
   "language": "python",
   "name": "python3"
  },
  "language_info": {
   "codemirror_mode": {
    "name": "ipython",
    "version": 3
   },
   "file_extension": ".py",
   "mimetype": "text/x-python",
   "name": "python",
   "nbconvert_exporter": "python",
   "pygments_lexer": "ipython3",
   "version": "3.13.7"
  }
 },
 "nbformat": 4,
 "nbformat_minor": 5
}
